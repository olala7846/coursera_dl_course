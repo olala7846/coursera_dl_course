{
 "cells": [
  {
   "cell_type": "markdown",
   "metadata": {},
   "source": [
    "# Python vectorization\n",
    "\n",
    "Vectorized operations are much faster than for loop, since many CPU/GPU supports [SIMD](https://en.wikipedia.org/wiki/SIMD)"
   ]
  },
  {
   "cell_type": "code",
   "execution_count": 5,
   "metadata": {
    "collapsed": false
   },
   "outputs": [
    {
     "name": "stdout",
     "output_type": "stream",
     "text": [
      "result: 25014.2564766\n",
      "For loop took: 124.56703186 ms\n",
      "result: 25014.2564766\n",
      "Vectorized dot took: 0.262975692749 ms\n"
     ]
    }
   ],
   "source": [
    "import numpy as np\n",
    "import time\n",
    "\n",
    "# vector dot operation\n",
    "\n",
    "VEC_LENGTH = 100000\n",
    "w = np.random.rand(VEC_LENGTH)\n",
    "x = np.random.rand(VEC_LENGTH)\n",
    "\n",
    "tic = time.time()\n",
    "c = 0\n",
    "for i in range(VEC_LENGTH):\n",
    "    c += w[i] * x[i]\n",
    "toc = time.time()\n",
    "print('result: %s' % c)\n",
    "print('For loop took: %s ms' % str(1000 * (toc - tic)))\n",
    "\n",
    "tic = time.time()\n",
    "c = np.dot(w, x)\n",
    "toc = time.time()\n",
    "print('result: %s' % c)\n",
    "print('Vectorized dot took: %s ms' % str(1000 * (toc - tic)))"
   ]
  },
  {
   "cell_type": "markdown",
   "metadata": {},
   "source": [
    "# Numpy also support lots of other vector operaitons\n",
    "for example log, abs, max, square ..."
   ]
  },
  {
   "cell_type": "code",
   "execution_count": 33,
   "metadata": {
    "collapsed": false
   },
   "outputs": [
    {
     "name": "stdout",
     "output_type": "stream",
     "text": [
      "\n",
      "Profile log operation:\n",
      "For loop:\n",
      "  took 471.00687027 ms\n",
      "Vectorized:\n",
      "  took 8.73899459839 ms\n",
      "\n",
      "Profile abs operation\n",
      "For loop:\n",
      "  took 437.683820724 ms\n",
      "Vectorized:\n",
      "  took 4.57501411438 ms\n",
      "\n",
      "Profile square operation\n",
      "For loop:\n",
      "  took 1461.63010597 ms\n",
      "Vectorized:\n",
      "  took 0.669956207275 ms\n"
     ]
    }
   ],
   "source": [
    "import numpy as np\n",
    "import math\n",
    "import time\n",
    "\n",
    "VEC_LENGTH = 1000000\n",
    "\n",
    "# util class for profiling\n",
    "class CalcTime:\n",
    "    def __enter__(self):\n",
    "        self.tic = time.time()\n",
    "    \n",
    "    def __exit__(self, type, value, traceback):\n",
    "        self.toc = time.time()\n",
    "        print('  took %s ms' % str(1000 * (self.toc - self.tic)))\n",
    "        \n",
    "# Log operation\n",
    "print('\\nProfile log operation:')\n",
    "v = np.random.rand(VEC_LENGTH)\n",
    "\n",
    "print('For loop:')\n",
    "u = np.zeros(VEC_LENGTH)\n",
    "with CalcTime():\n",
    "    for i in range(VEC_LENGTH):\n",
    "        u[i] = math.log(v[i])\n",
    "\n",
    "print('Vectorized:')\n",
    "with CalcTime():\n",
    "    u2 = np.log(v)\n",
    "\n",
    "        \n",
    "# Abs operation\n",
    "print('\\nProfile abs operation')\n",
    "v = np.random.rand(VEC_LENGTH)\n",
    "u = np.zeros(VEC_LENGTH)\n",
    "\n",
    "print('For loop:')\n",
    "with CalcTime():\n",
    "    for i in range(VEC_LENGTH):\n",
    "        u[i] = math.fabs(v[i])\n",
    "\n",
    "print('Vectorized:')\n",
    "with CalcTime():\n",
    "    u2 = np.abs(v)\n",
    "    \n",
    "# Square\n",
    "print('\\nProfile square operation')\n",
    "v = np.random.rand(VEC_LENGTH)\n",
    "u = np.zeros(VEC_LENGTH)\n",
    "\n",
    "print('For loop:')\n",
    "with CalcTime():\n",
    "    for i in range(VEC_LENGTH):\n",
    "        u[i] = v[i]**2\n",
    "\n",
    "print('Vectorized:')\n",
    "with CalcTime():\n",
    "    u2 = v[i]**2\n"
   ]
  },
  {
   "cell_type": "markdown",
   "metadata": {
    "collapsed": true
   },
   "source": [
    "# Numpy Broadcasting Faster?\n",
    "According to the [document](https://docs.scipy.org/doc/numpy-1.13.0/user/basics.broadcasting.html) Broadcasting provides a means of vectorizing array operations so that looping occurs in C instead of Python.It does this without making needless copies of data and usually leads to efficient algorithm implementations. "
   ]
  },
  {
   "cell_type": "code",
   "execution_count": 5,
   "metadata": {
    "collapsed": false
   },
   "outputs": [
    {
     "name": "stdout",
     "output_type": "stream",
     "text": [
      "Shape of A (3, 5)\n",
      "Shape of X (5,)\n",
      "A+x:\n",
      "[[101 202 303 404 505]\n",
      " [106 207 308 409 510]\n",
      " [113 214 315 416 517]]\n",
      "Shape of y: (1, 3)\n",
      "A+y:\n"
     ]
    },
    {
     "ename": "ValueError",
     "evalue": "operands could not be broadcast together with shapes (3,5) (1,3) ",
     "output_type": "error",
     "traceback": [
      "\u001b[0;31m---------------------------------------------------------------------------\u001b[0m",
      "\u001b[0;31mValueError\u001b[0m                                Traceback (most recent call last)",
      "\u001b[0;32m<ipython-input-5-6a5102257822>\u001b[0m in \u001b[0;36m<module>\u001b[0;34m()\u001b[0m\n\u001b[1;32m     21\u001b[0m \u001b[0;32mprint\u001b[0m\u001b[0;34m(\u001b[0m\u001b[0;34m'Shape of y: %s'\u001b[0m \u001b[0;34m%\u001b[0m \u001b[0mstr\u001b[0m\u001b[0;34m(\u001b[0m\u001b[0my\u001b[0m\u001b[0;34m.\u001b[0m\u001b[0mshape\u001b[0m\u001b[0;34m)\u001b[0m\u001b[0;34m)\u001b[0m\u001b[0;34m\u001b[0m\u001b[0m\n\u001b[1;32m     22\u001b[0m \u001b[0;32mprint\u001b[0m\u001b[0;34m(\u001b[0m\u001b[0;34m'A+y:'\u001b[0m\u001b[0;34m)\u001b[0m\u001b[0;34m\u001b[0m\u001b[0m\n\u001b[0;32m---> 23\u001b[0;31m \u001b[0;32mprint\u001b[0m\u001b[0;34m(\u001b[0m\u001b[0mA\u001b[0m \u001b[0;34m+\u001b[0m \u001b[0my\u001b[0m\u001b[0;34m)\u001b[0m\u001b[0;34m\u001b[0m\u001b[0m\n\u001b[0m\u001b[1;32m     24\u001b[0m \u001b[0;34m\u001b[0m\u001b[0m\n\u001b[1;32m     25\u001b[0m \u001b[0;31m# profile broadcasting\u001b[0m\u001b[0;34m\u001b[0m\u001b[0;34m\u001b[0m\u001b[0m\n",
      "\u001b[0;31mValueError\u001b[0m: operands could not be broadcast together with shapes (3,5) (1,3) "
     ]
    }
   ],
   "source": [
    "import numpy as np\n",
    "\n",
    "# Demonstrate how broadcasting works\n",
    "A = np.array([\n",
    "        [1, 2, 3, 4, 5],\n",
    "        [6, 7, 8, 9, 10],\n",
    "        [13, 14, 15, 16, 17]\n",
    "    ])\n",
    "\n",
    "print('Shape of A %s' % str(A.shape))\n",
    "\n",
    "x = np.array([100, 200, 300, 400, 500])\n",
    "print('Shape of X %s' % str(x.shape))\n",
    "\n",
    "print('A+x:')\n",
    "print(A + x)\n",
    "\n",
    "y = np.array([[300, 200, 100]])\n",
    "y = y.reshape((3, 1))\n",
    "\n",
    "print('Shape of y: %s' % str(y.shape))\n",
    "print('A+y:')\n",
    "print(A + y)\n",
    "\n",
    "# profile broadcasting\n",
    "A_H = 100\n",
    "A_W = 200\n",
    "A = np.random.rand(A_H, A_W)\n",
    "v = np.array([100]*A_W)\n",
    "\n",
    "print('\\nProfile Broadcasting vs for loop')\n",
    "print('Broadcasting:')\n",
    "with CalcTime():\n",
    "    A + v\n",
    "    \n",
    "print('no broadcasting')\n",
    "with CalcTime():\n",
    "    for i in range(A_H):\n",
    "        A[i] + v"
   ]
  },
  {
   "cell_type": "markdown",
   "metadata": {
    "collapsed": true
   },
   "source": [
    "## Rank one array\n",
    "1. rank one array is neither row nor column array, should avoid using that\n",
    "2. use assert (which is cheap to execute) to make sure the shape is as expected\n",
    "3. use reshape to deal with rank 1 array."
   ]
  },
  {
   "cell_type": "code",
   "execution_count": 17,
   "metadata": {
    "collapsed": false
   },
   "outputs": [
    {
     "name": "stdout",
     "output_type": "stream",
     "text": [
      "random formal distribution array:\n",
      "[ 0.65479521  0.10714879  0.60117345 -1.25754035  0.21432231]\n",
      "a.shape is (5,) <-- arank 1 array:\n",
      "use a.reshape((1, 5)) to handle rank 1 array and use assert to ensure the dimension is correct\n",
      "(1, 5)\n"
     ]
    }
   ],
   "source": [
    "import numpy as np\n",
    "print('random formal distribution array:')\n",
    "a = np.random.randn(5)\n",
    "print(a)\n",
    "print('a.shape is %s <-- arank 1 array:' % str(a.shape))\n",
    "\n",
    "a = a.reshape((1, 5))\n",
    "print('use a.reshape((1, 5)) to handle rank 1 array and use assert to ensure the dimension is correct')\n",
    "assert(a.shape == (1, 5))\n",
    "print(a.shape)"
   ]
  }
 ],
 "metadata": {
  "kernelspec": {
   "display_name": "Python 2",
   "language": "python",
   "name": "python2"
  },
  "language_info": {
   "codemirror_mode": {
    "name": "ipython",
    "version": 2
   },
   "file_extension": ".py",
   "mimetype": "text/x-python",
   "name": "python",
   "nbconvert_exporter": "python",
   "pygments_lexer": "ipython2",
   "version": "2.7.10"
  }
 },
 "nbformat": 4,
 "nbformat_minor": 0
}
